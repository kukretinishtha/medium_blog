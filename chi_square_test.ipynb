{
  "nbformat": 4,
  "nbformat_minor": 0,
  "metadata": {
    "colab": {
      "provenance": [],
      "authorship_tag": "ABX9TyMxojHP9MekcGOpecvdAbJe",
      "include_colab_link": true
    },
    "kernelspec": {
      "name": "python3",
      "display_name": "Python 3"
    },
    "language_info": {
      "name": "python"
    }
  },
  "cells": [
    {
      "cell_type": "markdown",
      "metadata": {
        "id": "view-in-github",
        "colab_type": "text"
      },
      "source": [
        "<a href=\"https://colab.research.google.com/github/kukretinishtha/medium_blog/blob/medium/chi_square_test.ipynb\" target=\"_parent\"><img src=\"https://colab.research.google.com/assets/colab-badge.svg\" alt=\"Open In Colab\"/></a>"
      ]
    },
    {
      "cell_type": "code",
      "execution_count": 1,
      "metadata": {
        "colab": {
          "base_uri": "https://localhost:8080/"
        },
        "id": "HQrz-YxSyr3O",
        "outputId": "21b5c0ae-dbf4-4616-eef9-06cbadb793c5"
      },
      "outputs": [
        {
          "output_type": "stream",
          "name": "stdout",
          "text": [
            "Chi-Square Statistic: 20.2020202020202\n",
            "P-value: 0.00015413970122029184\n",
            "Degrees of Freedom: 3\n",
            "Expected Frequencies:\n",
            "       Smartphones  Laptops\n",
            "18-25         45.0     55.0\n",
            "26-35         45.0     55.0\n",
            "36-45         45.0     55.0\n",
            "46+           45.0     55.0\n",
            "Reject the null hypothesis: Age group and product preference are related.\n"
          ]
        }
      ],
      "source": [
        "import numpy as np\n",
        "import pandas as pd\n",
        "from scipy.stats import chi2_contingency\n",
        "\n",
        "# Creating the dataset\n",
        "data = np.array([[60, 40],  # 18-25\n",
        "                 [50, 50],  # 26-35\n",
        "                 [40, 60],  # 36-45\n",
        "                 [30, 70]]) # 46+\n",
        "\n",
        "# Performing the Chi-Square test\n",
        "chi2_stat, p_value, dof, expected = chi2_contingency(data)\n",
        "\n",
        "# Display results\n",
        "print(f\"Chi-Square Statistic: {chi2_stat}\")\n",
        "print(f\"P-value: {p_value}\")\n",
        "print(f\"Degrees of Freedom: {dof}\")\n",
        "print(\"Expected Frequencies:\")\n",
        "print(pd.DataFrame(expected, columns=[\"Smartphones\", \"Laptops\"], index=[\"18-25\", \"26-35\", \"36-45\", \"46+\"]))\n",
        "\n",
        "# Conclusion\n",
        "if p_value < 0.05:\n",
        "    print(\"Reject the null hypothesis: Age group and product preference are related.\")\n",
        "else:\n",
        "    print(\"Fail to reject the null hypothesis: No significant relationship between age group and product preference.\")\n"
      ]
    },
    {
      "cell_type": "code",
      "source": [],
      "metadata": {
        "id": "RtgvZ8FFy4kq"
      },
      "execution_count": null,
      "outputs": []
    }
  ]
}