{
  "nbformat": 4,
  "nbformat_minor": 0,
  "metadata": {
    "colab": {
      "provenance": [],
      "authorship_tag": "ABX9TyPjovnRnDTq2c7F/SYZLc7N"
    },
    "kernelspec": {
      "name": "python3",
      "display_name": "Python 3"
    },
    "language_info": {
      "name": "python"
    }
  },
  "cells": [
    {
      "cell_type": "code",
      "execution_count": 1,
      "metadata": {
        "id": "wVplAjgQ_sGt"
      },
      "outputs": [],
      "source": [
        "class WithoutSlots:\n",
        "    def __init__(self, name, age):\n",
        "        self.name = name\n",
        "        self.age = age\n",
        "\n",
        "class WithSlots:\n",
        "    __slots__ = ('name', 'age')\n",
        "    def __init__(self, name, age):\n",
        "        self.name = name\n",
        "        self.age = age"
      ]
    },
    {
      "cell_type": "code",
      "source": [
        "import sys\n",
        "\n",
        "no_slots = WithoutSlots(\"Alice\", 30)\n",
        "with_slots = WithSlots(\"Alice\", 30)\n",
        "\n",
        "print(sys.getsizeof(no_slots.__dict__))  # Memory used by __dict__\n",
        "print(sys.getsizeof(with_slots))  # Memory used by slot-based instance"
      ],
      "metadata": {
        "colab": {
          "base_uri": "https://localhost:8080/"
        },
        "id": "Gj3hg-Wm_4ew",
        "outputId": "5cacd62b-9087-4f90-f6cb-5218dfd1eacd"
      },
      "execution_count": 2,
      "outputs": [
        {
          "output_type": "stream",
          "name": "stdout",
          "text": [
            "296\n",
            "48\n"
          ]
        }
      ]
    },
    {
      "cell_type": "code",
      "source": [],
      "metadata": {
        "id": "sqp1rW2Q_-L9"
      },
      "execution_count": null,
      "outputs": []
    }
  ]
}